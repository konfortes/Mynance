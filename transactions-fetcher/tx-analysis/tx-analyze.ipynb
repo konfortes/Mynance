{
 "cells": [
  {
   "attachments": {},
   "cell_type": "markdown",
   "id": "c9e01755",
   "metadata": {},
   "source": [
    "## Imports"
   ]
  },
  {
   "cell_type": "code",
   "execution_count": null,
   "id": "5b08f5ed",
   "metadata": {},
   "outputs": [],
   "source": [
    "import pandas as pd"
   ]
  },
  {
   "attachments": {},
   "cell_type": "markdown",
   "id": "07f0ea75",
   "metadata": {},
   "source": [
    "## Read Transactions"
   ]
  },
  {
   "cell_type": "code",
   "execution_count": null,
   "id": "c2518d78",
   "metadata": {},
   "outputs": [],
   "source": [
    "df = pd.read_csv(\"txs.csv\")"
   ]
  },
  {
   "attachments": {},
   "cell_type": "markdown",
   "id": "25af7fb0",
   "metadata": {},
   "source": [
    "## Explore"
   ]
  },
  {
   "cell_type": "code",
   "execution_count": null,
   "id": "684ed71a",
   "metadata": {},
   "outputs": [],
   "source": [
    "df.sort_values(\"date\", ascending=False, inplace=True)\n",
    "df.head(5)\n"
   ]
  },
  {
   "attachments": {},
   "cell_type": "markdown",
   "id": "1fc5b7a0",
   "metadata": {},
   "source": [
    "### Filter out credit cards from bank transactions (they are listed as separate transactions)"
   ]
  },
  {
   "cell_type": "code",
   "execution_count": null,
   "id": "269b1328",
   "metadata": {},
   "outputs": [],
   "source": [
    "df = df[df[\"description\"] != \"מקס איט פיננסי\"]"
   ]
  },
  {
   "attachments": {},
   "cell_type": "markdown",
   "id": "140ef285",
   "metadata": {},
   "source": [
    "## Enrich and Transform"
   ]
  },
  {
   "cell_type": "code",
   "execution_count": null,
   "id": "36163050",
   "metadata": {},
   "outputs": [],
   "source": [
    "df[\"year\"] = pd.DatetimeIndex(df[\"date\"]).year\n",
    "df[\"month\"] = pd.DatetimeIndex(df[\"date\"]).month\n",
    "\n",
    "pd.set_option('display.max_rows', None)\n",
    "df.loc[df[\"month\"] == 12].head(1000)"
   ]
  },
  {
   "cell_type": "code",
   "execution_count": null,
   "id": "a7c1b80c",
   "metadata": {},
   "outputs": [],
   "source": [
    "df.groupby([\"year\", \"month\"])[\"chargedAmount\"].sum()"
   ]
  },
  {
   "attachments": {},
   "cell_type": "markdown",
   "id": "a6e0add6",
   "metadata": {},
   "source": [
    "originalAmount != chargedAmount This could be one of:\n",
    "1. tx is still pending\n",
    "2. Installments\n",
    "3. Chargeback"
   ]
  },
  {
   "cell_type": "code",
   "execution_count": null,
   "id": "365d6242",
   "metadata": {},
   "outputs": [],
   "source": [
    "df.loc[df[\"originalAmount\"].ne(df[\"chargedAmount\"])].head(5)"
   ]
  },
  {
   "cell_type": "markdown",
   "id": "df954155",
   "metadata": {},
   "source": []
  }
 ],
 "metadata": {
  "kernelspec": {
   "display_name": "tx-analysis",
   "language": "python",
   "name": "python3"
  },
  "language_info": {
   "codemirror_mode": {
    "name": "ipython",
    "version": 3
   },
   "file_extension": ".py",
   "mimetype": "text/x-python",
   "name": "python",
   "nbconvert_exporter": "python",
   "pygments_lexer": "ipython3",
   "version": "3.9.0"
  },
  "vscode": {
   "interpreter": {
    "hash": "0adbdeb41d897965e923ebe4e157d701e66b9c8bbdd2feb8abed0ed6a1fb0b75"
   }
  }
 },
 "nbformat": 4,
 "nbformat_minor": 5
}

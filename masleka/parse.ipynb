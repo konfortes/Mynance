{
 "cells": [
  {
   "cell_type": "markdown",
   "id": "e35526ca",
   "metadata": {},
   "source": [
    "## Imports"
   ]
  },
  {
   "cell_type": "code",
   "execution_count": null,
   "id": "2b24dcfd",
   "metadata": {},
   "outputs": [],
   "source": [
    "import pandas as pd\n",
    "from pathlib import Path\n",
    "from enum import Enum"
   ]
  },
  {
   "cell_type": "markdown",
   "id": "45eab677",
   "metadata": {},
   "source": [
    "### Support Classes"
   ]
  },
  {
   "cell_type": "code",
   "execution_count": null,
   "id": "21d0f43d",
   "metadata": {},
   "outputs": [],
   "source": [
    "class Products(Enum):\n",
    "    '''\n",
    "    Enum for the products\n",
    "    '''\n",
    "    GEMEL = 'קופת גמל להשקעה'\n",
    "    HISHTALMOOT = 'קרן השתלמות'\n",
    "    PENSIA = 'קרנות פנסיה חדשות'"
   ]
  },
  {
   "cell_type": "code",
   "execution_count": null,
   "id": "916d3e8e",
   "metadata": {},
   "outputs": [],
   "source": [
    "files_base_path = \"./data\"\n",
    "\n",
    "def parse_file(file_path):\n",
    "    if not Path(file_path).is_file():\n",
    "        print(f\"{file_path} could not be found\")\n",
    "        return None\n",
    "\n",
    "    return pd.read_excel(file_path)\n",
    "\n",
    "overview_df = parse_file(f\"{files_base_path}/התמונה המלאה.xls\")\n",
    "deposits_df = parse_file(f\"{files_base_path}/מעקב הפקדות.xls\")\n",
    "products_df = parse_file(f\"{files_base_path}/פרטי המוצרים שלי.xls\")\n"
   ]
  },
  {
   "cell_type": "markdown",
   "id": "4fdb1f89",
   "metadata": {},
   "source": [
    "## Deposits"
   ]
  },
  {
   "cell_type": "code",
   "execution_count": null,
   "id": "9db11380",
   "metadata": {},
   "outputs": [],
   "source": [
    "hishtalmoot_df = deposits_df.loc[deposits_df[\"סוג מוצר\"] == Products.HISHTALMOOT.value]\n",
    "hishtalmoot_df.head()\n",
    "\n",
    "# empty\n",
    "# for product in Products:\n",
    "#     print(product.value)\n",
    "#     grouped = deposits_df.loc[deposits_df[\"סוג מוצר\"] == product.value]\n",
    "#     print(grouped.head())"
   ]
  }
 ],
 "metadata": {
  "kernelspec": {
   "display_name": "Python 3.8.5 64-bit ('masleka')",
   "language": "python",
   "name": "python3"
  },
  "language_info": {
   "codemirror_mode": {
    "name": "ipython",
    "version": 3
   },
   "file_extension": ".py",
   "mimetype": "text/x-python",
   "name": "python",
   "nbconvert_exporter": "python",
   "pygments_lexer": "ipython3",
   "version": "3.8.5"
  },
  "vscode": {
   "interpreter": {
    "hash": "2d293681d73a555e5d592e168b36630e4b4f9afc21c34de3765270e28f8ce020"
   }
  }
 },
 "nbformat": 4,
 "nbformat_minor": 5
}
